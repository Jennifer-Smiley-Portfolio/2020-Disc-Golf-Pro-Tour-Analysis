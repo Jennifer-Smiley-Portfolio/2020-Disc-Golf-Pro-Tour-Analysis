{
 "cells": [
  {
   "cell_type": "markdown",
   "metadata": {},
   "source": [
    "## Pro Tour Classification\n",
    "### CSI 777 Final Project\n",
    "### Jennifer Smiley\n",
    "### Due: 12/02/2021"
   ]
  },
  {
   "cell_type": "code",
   "execution_count": 1,
   "metadata": {},
   "outputs": [],
   "source": [
    "import math\n",
    "import matplotlib.pyplot as plt\n",
    "import altair as alt\n",
    "import pandas as pd\n",
    "import numpy as np"
   ]
  },
  {
   "cell_type": "code",
   "execution_count": 2,
   "metadata": {},
   "outputs": [],
   "source": [
    "# finding important variables\n",
    "from sklearn.preprocessing import StandardScaler\n",
    "from sklearn.model_selection import train_test_split\n",
    "from sklearn.linear_model import LogisticRegression"
   ]
  },
  {
   "cell_type": "code",
   "execution_count": 3,
   "metadata": {},
   "outputs": [
    {
     "data": {
      "text/html": [
       "<div>\n",
       "<style scoped>\n",
       "    .dataframe tbody tr th:only-of-type {\n",
       "        vertical-align: middle;\n",
       "    }\n",
       "\n",
       "    .dataframe tbody tr th {\n",
       "        vertical-align: top;\n",
       "    }\n",
       "\n",
       "    .dataframe thead th {\n",
       "        text-align: right;\n",
       "    }\n",
       "</style>\n",
       "<table border=\"1\" class=\"dataframe\">\n",
       "  <thead>\n",
       "    <tr style=\"text-align: right;\">\n",
       "      <th></th>\n",
       "      <th>DGPT_Standing</th>\n",
       "      <th>Player_ID</th>\n",
       "      <th>Player_Name</th>\n",
       "      <th>Ace_%</th>\n",
       "      <th>Eagle_%</th>\n",
       "      <th>Birdies _%</th>\n",
       "      <th>Pars_%</th>\n",
       "      <th>Bogeys_%</th>\n",
       "      <th>Dbl_Bogeys_%</th>\n",
       "      <th>3+Bogeys_%</th>\n",
       "      <th>Fairway_Hits</th>\n",
       "      <th>Parked</th>\n",
       "      <th>In_Circle1 (0-10m)</th>\n",
       "      <th>In_Circle2 (0-20m)</th>\n",
       "      <th>Scramble</th>\n",
       "      <th>C1_Putts</th>\n",
       "      <th>C2_Putts</th>\n",
       "      <th>Number_of_Tournaments</th>\n",
       "    </tr>\n",
       "  </thead>\n",
       "  <tbody>\n",
       "    <tr>\n",
       "      <th>0</th>\n",
       "      <td>1</td>\n",
       "      <td>29190</td>\n",
       "      <td>Paige Pierce</td>\n",
       "      <td>0.0</td>\n",
       "      <td>1.20</td>\n",
       "      <td>40.87</td>\n",
       "      <td>41.02</td>\n",
       "      <td>12.43</td>\n",
       "      <td>3.74</td>\n",
       "      <td>0.75</td>\n",
       "      <td>70.83</td>\n",
       "      <td>14.84</td>\n",
       "      <td>44.38</td>\n",
       "      <td>64.92</td>\n",
       "      <td>44.65</td>\n",
       "      <td>88.12</td>\n",
       "      <td>20.53</td>\n",
       "      <td>12</td>\n",
       "    </tr>\n",
       "    <tr>\n",
       "      <th>1</th>\n",
       "      <td>2</td>\n",
       "      <td>44184</td>\n",
       "      <td>Catrina Allen</td>\n",
       "      <td>0.0</td>\n",
       "      <td>0.33</td>\n",
       "      <td>28.76</td>\n",
       "      <td>52.12</td>\n",
       "      <td>16.34</td>\n",
       "      <td>1.63</td>\n",
       "      <td>0.82</td>\n",
       "      <td>72.05</td>\n",
       "      <td>10.95</td>\n",
       "      <td>40.85</td>\n",
       "      <td>60.46</td>\n",
       "      <td>38.40</td>\n",
       "      <td>81.18</td>\n",
       "      <td>13.38</td>\n",
       "      <td>11</td>\n",
       "    </tr>\n",
       "    <tr>\n",
       "      <th>2</th>\n",
       "      <td>3</td>\n",
       "      <td>34563</td>\n",
       "      <td>Sarah Hokom</td>\n",
       "      <td>0.0</td>\n",
       "      <td>0.00</td>\n",
       "      <td>19.54</td>\n",
       "      <td>63.22</td>\n",
       "      <td>15.13</td>\n",
       "      <td>1.92</td>\n",
       "      <td>0.19</td>\n",
       "      <td>61.19</td>\n",
       "      <td>5.94</td>\n",
       "      <td>25.10</td>\n",
       "      <td>49.62</td>\n",
       "      <td>42.86</td>\n",
       "      <td>87.37</td>\n",
       "      <td>9.94</td>\n",
       "      <td>11</td>\n",
       "    </tr>\n",
       "    <tr>\n",
       "      <th>3</th>\n",
       "      <td>4</td>\n",
       "      <td>81351</td>\n",
       "      <td>Hailey King</td>\n",
       "      <td>0.0</td>\n",
       "      <td>0.20</td>\n",
       "      <td>31.82</td>\n",
       "      <td>47.83</td>\n",
       "      <td>16.40</td>\n",
       "      <td>2.96</td>\n",
       "      <td>0.79</td>\n",
       "      <td>63.14</td>\n",
       "      <td>6.13</td>\n",
       "      <td>34.78</td>\n",
       "      <td>53.95</td>\n",
       "      <td>49.99</td>\n",
       "      <td>87.73</td>\n",
       "      <td>17.65</td>\n",
       "      <td>9</td>\n",
       "    </tr>\n",
       "    <tr>\n",
       "      <th>4</th>\n",
       "      <td>5</td>\n",
       "      <td>85942</td>\n",
       "      <td>Missy Gannon</td>\n",
       "      <td>0.0</td>\n",
       "      <td>0.00</td>\n",
       "      <td>21.02</td>\n",
       "      <td>57.51</td>\n",
       "      <td>17.27</td>\n",
       "      <td>3.60</td>\n",
       "      <td>0.60</td>\n",
       "      <td>67.04</td>\n",
       "      <td>5.11</td>\n",
       "      <td>25.98</td>\n",
       "      <td>48.35</td>\n",
       "      <td>35.61</td>\n",
       "      <td>86.62</td>\n",
       "      <td>11.42</td>\n",
       "      <td>12</td>\n",
       "    </tr>\n",
       "  </tbody>\n",
       "</table>\n",
       "</div>"
      ],
      "text/plain": [
       "   DGPT_Standing  Player_ID    Player_Name  Ace_%  Eagle_%  Birdies _%  \\\n",
       "0              1      29190   Paige Pierce    0.0     1.20       40.87   \n",
       "1              2      44184  Catrina Allen    0.0     0.33       28.76   \n",
       "2              3      34563    Sarah Hokom    0.0     0.00       19.54   \n",
       "3              4      81351    Hailey King    0.0     0.20       31.82   \n",
       "4              5      85942   Missy Gannon    0.0     0.00       21.02   \n",
       "\n",
       "   Pars_%  Bogeys_%  Dbl_Bogeys_%  3+Bogeys_%  Fairway_Hits  Parked  \\\n",
       "0   41.02     12.43          3.74        0.75         70.83   14.84   \n",
       "1   52.12     16.34          1.63        0.82         72.05   10.95   \n",
       "2   63.22     15.13          1.92        0.19         61.19    5.94   \n",
       "3   47.83     16.40          2.96        0.79         63.14    6.13   \n",
       "4   57.51     17.27          3.60        0.60         67.04    5.11   \n",
       "\n",
       "   In_Circle1 (0-10m)  In_Circle2 (0-20m)  Scramble  C1_Putts  C2_Putts  \\\n",
       "0               44.38               64.92     44.65     88.12     20.53   \n",
       "1               40.85               60.46     38.40     81.18     13.38   \n",
       "2               25.10               49.62     42.86     87.37      9.94   \n",
       "3               34.78               53.95     49.99     87.73     17.65   \n",
       "4               25.98               48.35     35.61     86.62     11.42   \n",
       "\n",
       "   Number_of_Tournaments  \n",
       "0                     12  \n",
       "1                     11  \n",
       "2                     11  \n",
       "3                      9  \n",
       "4                     12  "
      ]
     },
     "execution_count": 3,
     "metadata": {},
     "output_type": "execute_result"
    }
   ],
   "source": [
    "#Read in the dataset \n",
    "df = pd.read_csv(\"2020ProTour.csv\")\n",
    "df.head()"
   ]
  },
  {
   "cell_type": "code",
   "execution_count": 4,
   "metadata": {},
   "outputs": [
    {
     "data": {
      "image/png": "[encoded data removed]",
      "text/plain": [
       "<Figure size 432x288 with 1 Axes>"
      ]
     },
     "metadata": {
      "needs_background": "light"
     },
     "output_type": "display_data"
    }
   ],
   "source": [
    "# Finding feature importance based on Logistic Regression\n",
    "d1 = df.drop(['Player_Name', 'Number_of_Tournaments', 'Player_ID'], axis=1)\n",
    "X = d1.drop('DGPT_Standing' , axis=1)\n",
    "y = df['DGPT_Standing']\n",
    "X_train, X_test, y_train, y_test = train_test_split(X, y, test_size=0.25, random_state=42)\n",
    "\n",
    "ss = StandardScaler()\n",
    "X_train_scaled = ss.fit_transform(X_train)\n",
    "X_test_scaled = ss.transform(X_test)\n",
    "\n",
    "model = LogisticRegression()\n",
    "model.fit(X_train_scaled, y_train)\n",
    "importances = pd.DataFrame(data={\n",
    "    'Attribute': X_train.columns,\n",
    "    'Importance': model.coef_[0]\n",
    "})\n",
    "importances = importances.sort_values(by='Importance', ascending=False)\n",
    "\n",
    "plt.bar(x=importances['Attribute'], height=importances['Importance'], color='#087E8B')\n",
    "plt.title('Feature importances obtained from coefficients', size=20)\n",
    "plt.xticks(rotation='vertical')\n",
    "plt.show()"
   ]
  },
  {
   "cell_type": "code",
   "execution_count": 5,
   "metadata": {},
   "outputs": [],
   "source": [
    "from sklearn.decomposition import PCA"
   ]
  },
  {
   "cell_type": "code",
   "execution_count": 6,
   "metadata": {},
   "outputs": [
    {
     "data": {
      "text/html": [
       "<div>\n",
       "<style scoped>\n",
       "    .dataframe tbody tr th:only-of-type {\n",
       "        vertical-align: middle;\n",
       "    }\n",
       "\n",
       "    .dataframe tbody tr th {\n",
       "        vertical-align: top;\n",
       "    }\n",
       "\n",
       "    .dataframe thead th {\n",
       "        text-align: right;\n",
       "    }\n",
       "</style>\n",
       "<table border=\"1\" class=\"dataframe\">\n",
       "  <thead>\n",
       "    <tr style=\"text-align: right;\">\n",
       "      <th></th>\n",
       "      <th>PC1</th>\n",
       "      <th>PC2</th>\n",
       "      <th>PC3</th>\n",
       "      <th>PC4</th>\n",
       "      <th>PC5</th>\n",
       "      <th>PC6</th>\n",
       "      <th>PC7</th>\n",
       "      <th>PC8</th>\n",
       "      <th>PC9</th>\n",
       "      <th>PC10</th>\n",
       "      <th>PC11</th>\n",
       "      <th>PC12</th>\n",
       "      <th>PC13</th>\n",
       "      <th>PC14</th>\n",
       "    </tr>\n",
       "  </thead>\n",
       "  <tbody>\n",
       "    <tr>\n",
       "      <th>Ace_%</th>\n",
       "      <td>0.037403</td>\n",
       "      <td>0.363496</td>\n",
       "      <td>0.514726</td>\n",
       "      <td>-0.047232</td>\n",
       "      <td>0.709466</td>\n",
       "      <td>0.267574</td>\n",
       "      <td>0.072359</td>\n",
       "      <td>0.142703</td>\n",
       "      <td>0.004595</td>\n",
       "      <td>-0.085987</td>\n",
       "      <td>-0.069444</td>\n",
       "      <td>0.005622</td>\n",
       "      <td>0.002245</td>\n",
       "      <td>0.000019</td>\n",
       "    </tr>\n",
       "    <tr>\n",
       "      <th>Eagle_%</th>\n",
       "      <td>-0.338348</td>\n",
       "      <td>0.435259</td>\n",
       "      <td>0.090009</td>\n",
       "      <td>-0.115938</td>\n",
       "      <td>-0.433080</td>\n",
       "      <td>0.680226</td>\n",
       "      <td>-0.017750</td>\n",
       "      <td>-0.188273</td>\n",
       "      <td>-0.040358</td>\n",
       "      <td>0.006392</td>\n",
       "      <td>-0.017737</td>\n",
       "      <td>-0.003865</td>\n",
       "      <td>-0.003666</td>\n",
       "      <td>0.000005</td>\n",
       "    </tr>\n",
       "    <tr>\n",
       "      <th>Birdies _%</th>\n",
       "      <td>-0.887642</td>\n",
       "      <td>0.307662</td>\n",
       "      <td>0.068508</td>\n",
       "      <td>-0.088315</td>\n",
       "      <td>-0.025232</td>\n",
       "      <td>-0.218123</td>\n",
       "      <td>-0.026500</td>\n",
       "      <td>-0.115797</td>\n",
       "      <td>0.101969</td>\n",
       "      <td>-0.156606</td>\n",
       "      <td>0.075417</td>\n",
       "      <td>0.098313</td>\n",
       "      <td>-0.076518</td>\n",
       "      <td>0.000721</td>\n",
       "    </tr>\n",
       "    <tr>\n",
       "      <th>Pars_%</th>\n",
       "      <td>-0.718747</td>\n",
       "      <td>-0.562769</td>\n",
       "      <td>-0.077059</td>\n",
       "      <td>0.159846</td>\n",
       "      <td>0.133484</td>\n",
       "      <td>0.214325</td>\n",
       "      <td>-0.114412</td>\n",
       "      <td>0.021759</td>\n",
       "      <td>-0.251740</td>\n",
       "      <td>0.061295</td>\n",
       "      <td>-0.059328</td>\n",
       "      <td>-0.002737</td>\n",
       "      <td>0.027267</td>\n",
       "      <td>0.000984</td>\n",
       "    </tr>\n",
       "    <tr>\n",
       "      <th>Bogeys_%</th>\n",
       "      <td>0.835160</td>\n",
       "      <td>0.128753</td>\n",
       "      <td>0.031441</td>\n",
       "      <td>0.215922</td>\n",
       "      <td>-0.173586</td>\n",
       "      <td>-0.030986</td>\n",
       "      <td>0.325257</td>\n",
       "      <td>0.008645</td>\n",
       "      <td>0.292624</td>\n",
       "      <td>-0.007702</td>\n",
       "      <td>-0.164499</td>\n",
       "      <td>-0.042980</td>\n",
       "      <td>0.016699</td>\n",
       "      <td>0.000805</td>\n",
       "    </tr>\n",
       "  </tbody>\n",
       "</table>\n",
       "</div>"
      ],
      "text/plain": [
       "                 PC1       PC2       PC3       PC4       PC5       PC6  \\\n",
       "Ace_%       0.037403  0.363496  0.514726 -0.047232  0.709466  0.267574   \n",
       "Eagle_%    -0.338348  0.435259  0.090009 -0.115938 -0.433080  0.680226   \n",
       "Birdies _% -0.887642  0.307662  0.068508 -0.088315 -0.025232 -0.218123   \n",
       "Pars_%     -0.718747 -0.562769 -0.077059  0.159846  0.133484  0.214325   \n",
       "Bogeys_%    0.835160  0.128753  0.031441  0.215922 -0.173586 -0.030986   \n",
       "\n",
       "                 PC7       PC8       PC9      PC10      PC11      PC12  \\\n",
       "Ace_%       0.072359  0.142703  0.004595 -0.085987 -0.069444  0.005622   \n",
       "Eagle_%    -0.017750 -0.188273 -0.040358  0.006392 -0.017737 -0.003865   \n",
       "Birdies _% -0.026500 -0.115797  0.101969 -0.156606  0.075417  0.098313   \n",
       "Pars_%     -0.114412  0.021759 -0.251740  0.061295 -0.059328 -0.002737   \n",
       "Bogeys_%    0.325257  0.008645  0.292624 -0.007702 -0.164499 -0.042980   \n",
       "\n",
       "                PC13      PC14  \n",
       "Ace_%       0.002245  0.000019  \n",
       "Eagle_%    -0.003666  0.000005  \n",
       "Birdies _% -0.076518  0.000721  \n",
       "Pars_%      0.027267  0.000984  \n",
       "Bogeys_%    0.016699  0.000805  "
      ]
     },
     "execution_count": 6,
     "metadata": {},
     "output_type": "execute_result"
    }
   ],
   "source": [
    "# First PCA Score should show most of the variance in the coefficients \n",
    "pca = PCA().fit(X_train_scaled)\n",
    "loadings = pd.DataFrame(\n",
    "    data=pca.components_.T * np.sqrt(pca.explained_variance_), \n",
    "    columns=[f'PC{i}' for i in range(1, len(X_train.columns) + 1)],\n",
    "    index=X_train.columns\n",
    ")\n",
    "loadings.head()"
   ]
  },
  {
   "cell_type": "code",
   "execution_count": 7,
   "metadata": {},
   "outputs": [
    {
     "data": {
      "image/png": "[encoded data removed]",
      "text/plain": [
       "<Figure size 432x288 with 1 Axes>"
      ]
     },
     "metadata": {
      "needs_background": "light"
     },
     "output_type": "display_data"
    }
   ],
   "source": [
    "# Feature importance using PCA (1st Principal Component)\n",
    "pc1_loadings = loadings.sort_values(by='PC1', ascending=False)[['PC1']]\n",
    "pc1_loadings = pc1_loadings.reset_index()\n",
    "pc1_loadings.columns = ['Attribute', 'CorrelationWithPC1']\n",
    "\n",
    "plt.bar(x=pc1_loadings['Attribute'], height=pc1_loadings['CorrelationWithPC1'], color='#087E8B')\n",
    "plt.title('PCA loading scores (first principal component)', size=20)\n",
    "plt.xticks(rotation='vertical')\n",
    "plt.show()"
   ]
  },
  {
   "cell_type": "code",
   "execution_count": 8,
   "metadata": {},
   "outputs": [
    {
     "data": {
      "text/html": [
       "<div>\n",
       "<style scoped>\n",
       "    .dataframe tbody tr th:only-of-type {\n",
       "        vertical-align: middle;\n",
       "    }\n",
       "\n",
       "    .dataframe tbody tr th {\n",
       "        vertical-align: top;\n",
       "    }\n",
       "\n",
       "    .dataframe thead th {\n",
       "        text-align: right;\n",
       "    }\n",
       "</style>\n",
       "<table border=\"1\" class=\"dataframe\">\n",
       "  <thead>\n",
       "    <tr style=\"text-align: right;\">\n",
       "      <th></th>\n",
       "      <th>DGPT_Standing</th>\n",
       "      <th>Player_ID</th>\n",
       "      <th>Player_Name</th>\n",
       "      <th>Number_of_Tournaments</th>\n",
       "      <th>Eagle_%</th>\n",
       "      <th>Parked</th>\n",
       "      <th>In_Circle1 (0-10m)</th>\n",
       "      <th>Birdies _%</th>\n",
       "      <th>Fairway_Hits</th>\n",
       "      <th>In_Circle2 (0-20m)</th>\n",
       "      <th>C2_Putts</th>\n",
       "      <th>Scramble</th>\n",
       "      <th>Dbl_Bogeys_%</th>\n",
       "      <th>Bogeys_%</th>\n",
       "      <th>3+Bogeys_%</th>\n",
       "      <th>Ace_%</th>\n",
       "    </tr>\n",
       "  </thead>\n",
       "  <tbody>\n",
       "    <tr>\n",
       "      <th>0</th>\n",
       "      <td>1</td>\n",
       "      <td>29190</td>\n",
       "      <td>Paige Pierce</td>\n",
       "      <td>12</td>\n",
       "      <td>1.20</td>\n",
       "      <td>14.84</td>\n",
       "      <td>44.38</td>\n",
       "      <td>40.87</td>\n",
       "      <td>70.83</td>\n",
       "      <td>64.92</td>\n",
       "      <td>20.53</td>\n",
       "      <td>44.65</td>\n",
       "      <td>3.74</td>\n",
       "      <td>12.43</td>\n",
       "      <td>0.75</td>\n",
       "      <td>0.0</td>\n",
       "    </tr>\n",
       "    <tr>\n",
       "      <th>1</th>\n",
       "      <td>2</td>\n",
       "      <td>44184</td>\n",
       "      <td>Catrina Allen</td>\n",
       "      <td>11</td>\n",
       "      <td>0.33</td>\n",
       "      <td>10.95</td>\n",
       "      <td>40.85</td>\n",
       "      <td>28.76</td>\n",
       "      <td>72.05</td>\n",
       "      <td>60.46</td>\n",
       "      <td>13.38</td>\n",
       "      <td>38.40</td>\n",
       "      <td>1.63</td>\n",
       "      <td>16.34</td>\n",
       "      <td>0.82</td>\n",
       "      <td>0.0</td>\n",
       "    </tr>\n",
       "    <tr>\n",
       "      <th>2</th>\n",
       "      <td>3</td>\n",
       "      <td>34563</td>\n",
       "      <td>Sarah Hokom</td>\n",
       "      <td>11</td>\n",
       "      <td>0.00</td>\n",
       "      <td>5.94</td>\n",
       "      <td>25.10</td>\n",
       "      <td>19.54</td>\n",
       "      <td>61.19</td>\n",
       "      <td>49.62</td>\n",
       "      <td>9.94</td>\n",
       "      <td>42.86</td>\n",
       "      <td>1.92</td>\n",
       "      <td>15.13</td>\n",
       "      <td>0.19</td>\n",
       "      <td>0.0</td>\n",
       "    </tr>\n",
       "    <tr>\n",
       "      <th>3</th>\n",
       "      <td>4</td>\n",
       "      <td>81351</td>\n",
       "      <td>Hailey King</td>\n",
       "      <td>9</td>\n",
       "      <td>0.20</td>\n",
       "      <td>6.13</td>\n",
       "      <td>34.78</td>\n",
       "      <td>31.82</td>\n",
       "      <td>63.14</td>\n",
       "      <td>53.95</td>\n",
       "      <td>17.65</td>\n",
       "      <td>49.99</td>\n",
       "      <td>2.96</td>\n",
       "      <td>16.40</td>\n",
       "      <td>0.79</td>\n",
       "      <td>0.0</td>\n",
       "    </tr>\n",
       "    <tr>\n",
       "      <th>4</th>\n",
       "      <td>5</td>\n",
       "      <td>85942</td>\n",
       "      <td>Missy Gannon</td>\n",
       "      <td>12</td>\n",
       "      <td>0.00</td>\n",
       "      <td>5.11</td>\n",
       "      <td>25.98</td>\n",
       "      <td>21.02</td>\n",
       "      <td>67.04</td>\n",
       "      <td>48.35</td>\n",
       "      <td>11.42</td>\n",
       "      <td>35.61</td>\n",
       "      <td>3.60</td>\n",
       "      <td>17.27</td>\n",
       "      <td>0.60</td>\n",
       "      <td>0.0</td>\n",
       "    </tr>\n",
       "  </tbody>\n",
       "</table>\n",
       "</div>"
      ],
      "text/plain": [
       "   DGPT_Standing  Player_ID    Player_Name  Number_of_Tournaments  Eagle_%  \\\n",
       "0              1      29190   Paige Pierce                     12     1.20   \n",
       "1              2      44184  Catrina Allen                     11     0.33   \n",
       "2              3      34563    Sarah Hokom                     11     0.00   \n",
       "3              4      81351    Hailey King                      9     0.20   \n",
       "4              5      85942   Missy Gannon                     12     0.00   \n",
       "\n",
       "   Parked  In_Circle1 (0-10m)  Birdies _%  Fairway_Hits  In_Circle2 (0-20m)  \\\n",
       "0   14.84               44.38       40.87         70.83               64.92   \n",
       "1   10.95               40.85       28.76         72.05               60.46   \n",
       "2    5.94               25.10       19.54         61.19               49.62   \n",
       "3    6.13               34.78       31.82         63.14               53.95   \n",
       "4    5.11               25.98       21.02         67.04               48.35   \n",
       "\n",
       "   C2_Putts  Scramble  Dbl_Bogeys_%  Bogeys_%  3+Bogeys_%  Ace_%  \n",
       "0     20.53     44.65          3.74     12.43        0.75    0.0  \n",
       "1     13.38     38.40          1.63     16.34        0.82    0.0  \n",
       "2      9.94     42.86          1.92     15.13        0.19    0.0  \n",
       "3     17.65     49.99          2.96     16.40        0.79    0.0  \n",
       "4     11.42     35.61          3.60     17.27        0.60    0.0  "
      ]
     },
     "execution_count": 8,
     "metadata": {},
     "output_type": "execute_result"
    }
   ],
   "source": [
    "# Selecting only the columns that are needed\n",
    "df4 = df[[\"DGPT_Standing\", \"Player_ID\", \"Player_Name\",\"Number_of_Tournaments\",\"Eagle_%\", \"Parked\", \"In_Circle1 (0-10m)\", \"Birdies _%\", \"Fairway_Hits\", \"In_Circle2 (0-20m)\", \"C2_Putts\", \"Scramble\", \"Dbl_Bogeys_%\", \"Bogeys_%\", \"3+Bogeys_%\", \"Ace_%\"]]\n",
    "df4.head()"
   ]
  },
  {
   "cell_type": "code",
   "execution_count": 9,
   "metadata": {},
   "outputs": [],
   "source": [
    "# Writing the above dataframe to a csv to use later\n",
    "df4.to_csv(\"ProTour5.csv\",index=False)"
   ]
  },
  {
   "cell_type": "code",
   "execution_count": 10,
   "metadata": {},
   "outputs": [],
   "source": [
    "def readdata(filename):     # filename is a variable in the function, assigned later\n",
    "    \n",
    "    outputdata = []   # creates list of values\n",
    "    \n",
    "    with open(filename) as fd:\n",
    "        header = fd.readline().strip('\\n')    # read the file line by line, \\n stripped as a result of bug in next section\n",
    "        for rawdata in fd.readlines():    # .readlines creates list of all lines\n",
    "            outraw = rawdata.strip('\\n').split(',')    # splits at the comma\n",
    "            outputdata.append((float(outraw[0]), int(outraw[1]), str(outraw[2]), int(outraw[3]), float(outraw[4]), \n",
    "                               float(outraw[5]), float(outraw[6]), float(outraw[7]), float(outraw[8]), float(outraw[9]), \n",
    "                                                                         float(outraw[10]), float(outraw[11]), \n",
    "                                                                               float(outraw[12]), float(outraw[13]),\n",
    "                                                                               float(outraw[14]),float(outraw[15])))\n",
    "            \n",
    "    return outputdata"
   ]
  },
  {
   "cell_type": "code",
   "execution_count": 15,
   "metadata": {},
   "outputs": [],
   "source": [
    "# KNN using the Logistic Regression Components \n",
    "def knn(dataset, Name, Tourn, Eagle, Parked, In_C1, Birdies, Fairway_Hits, In_C2, C2_Putts, Scramble, k=1):\n",
    "    \n",
    "    state = []\n",
    "    sortsex = []\n",
    "    \n",
    "    for item in dataset:    # for each instance out of the tuple\n",
    "        # distance formula w/ 9 dimensions\n",
    "        dist = abs((Tourn - item[3]) + (Eagle-item[4]) + (Parked-item[5]) + (In_C1-item[6]) + (Birdies-item[7]) + \n",
    "                   (Fairway_Hits-item[8]) + (In_C2-item[9]) + (C2_Putts-item[10]) + (Scramble-item[11]))\n",
    "        state.append((dist,item[0]))    # make a record of each \"dist\"\n",
    "        \n",
    "    sorted_by_first = sorted(state, reverse = False)   \n",
    "\n",
    "    # only displays distance and the PDGA Ranking Number\n",
    "    standing = sorted_by_first[0]\n",
    "\n",
    "    print(\"Name of Player:\", Name, \", Distance from nearest point:\",standing[0], \", PDGA Ranking:\", standing[1]) "
   ]
  },
  {
   "cell_type": "code",
   "execution_count": 12,
   "metadata": {},
   "outputs": [],
   "source": [
    "data = readdata(\"ProTour5.csv\")"
   ]
  },
  {
   "cell_type": "code",
   "execution_count": 16,
   "metadata": {},
   "outputs": [
    {
     "name": "stdout",
     "output_type": "stream",
     "text": [
      "Name of Player: Paige Pierce , Distance from nearest point: 0.0 , PDGA Ranking: 1.0\n"
     ]
    }
   ],
   "source": [
    "# Test on Paige Pierce\n",
    "knn(data,\"Paige Pierce\",12,1.20,14.84,44.38,40.87,70.83,64.92,20.53,44.65)"
   ]
  },
  {
   "cell_type": "code",
   "execution_count": 17,
   "metadata": {},
   "outputs": [
    {
     "data": {
      "text/html": [
       "<div>\n",
       "<style scoped>\n",
       "    .dataframe tbody tr th:only-of-type {\n",
       "        vertical-align: middle;\n",
       "    }\n",
       "\n",
       "    .dataframe tbody tr th {\n",
       "        vertical-align: top;\n",
       "    }\n",
       "\n",
       "    .dataframe thead th {\n",
       "        text-align: right;\n",
       "    }\n",
       "</style>\n",
       "<table border=\"1\" class=\"dataframe\">\n",
       "  <thead>\n",
       "    <tr style=\"text-align: right;\">\n",
       "      <th></th>\n",
       "      <th>Player_Name</th>\n",
       "      <th>Number_of_Tournaments</th>\n",
       "      <th>Eagle</th>\n",
       "      <th>Parked</th>\n",
       "      <th>In_C1</th>\n",
       "      <th>Birdies</th>\n",
       "      <th>Fairway_Hits</th>\n",
       "      <th>In_C2</th>\n",
       "      <th>C2_Putts</th>\n",
       "      <th>Scramble</th>\n",
       "      <th>Dbl_Bogeys</th>\n",
       "      <th>Bogeys</th>\n",
       "      <th>Bogeys3</th>\n",
       "      <th>Ace</th>\n",
       "    </tr>\n",
       "  </thead>\n",
       "  <tbody>\n",
       "    <tr>\n",
       "      <th>0</th>\n",
       "      <td>Kristin Tattar</td>\n",
       "      <td>4</td>\n",
       "      <td>1.52</td>\n",
       "      <td>13.64</td>\n",
       "      <td>40.40</td>\n",
       "      <td>34.85</td>\n",
       "      <td>75.12</td>\n",
       "      <td>64.14</td>\n",
       "      <td>21.57</td>\n",
       "      <td>45.45</td>\n",
       "      <td>2.02</td>\n",
       "      <td>12.63</td>\n",
       "      <td>0.00</td>\n",
       "      <td>0</td>\n",
       "    </tr>\n",
       "    <tr>\n",
       "      <th>1</th>\n",
       "      <td>Ella Hansen</td>\n",
       "      <td>7</td>\n",
       "      <td>1.26</td>\n",
       "      <td>8.86</td>\n",
       "      <td>29.62</td>\n",
       "      <td>19.95</td>\n",
       "      <td>70.76</td>\n",
       "      <td>52.15</td>\n",
       "      <td>7.58</td>\n",
       "      <td>24.44</td>\n",
       "      <td>6.06</td>\n",
       "      <td>17.17</td>\n",
       "      <td>2.53</td>\n",
       "      <td>0</td>\n",
       "    </tr>\n",
       "    <tr>\n",
       "      <th>2</th>\n",
       "      <td>Maria Oliva</td>\n",
       "      <td>6</td>\n",
       "      <td>0.28</td>\n",
       "      <td>9.36</td>\n",
       "      <td>22.81</td>\n",
       "      <td>21.94</td>\n",
       "      <td>65.52</td>\n",
       "      <td>48.25</td>\n",
       "      <td>15.00</td>\n",
       "      <td>25.27</td>\n",
       "      <td>5.56</td>\n",
       "      <td>23.89</td>\n",
       "      <td>1.94</td>\n",
       "      <td>0</td>\n",
       "    </tr>\n",
       "    <tr>\n",
       "      <th>3</th>\n",
       "      <td>Juliana Korver</td>\n",
       "      <td>12</td>\n",
       "      <td>0.00</td>\n",
       "      <td>5.07</td>\n",
       "      <td>28.43</td>\n",
       "      <td>16.34</td>\n",
       "      <td>72.70</td>\n",
       "      <td>50.65</td>\n",
       "      <td>5.32</td>\n",
       "      <td>27.27</td>\n",
       "      <td>4.58</td>\n",
       "      <td>20.59</td>\n",
       "      <td>1.14</td>\n",
       "      <td>0</td>\n",
       "    </tr>\n",
       "    <tr>\n",
       "      <th>4</th>\n",
       "      <td>Raven Klein</td>\n",
       "      <td>4</td>\n",
       "      <td>0.00</td>\n",
       "      <td>4.63</td>\n",
       "      <td>17.59</td>\n",
       "      <td>14.81</td>\n",
       "      <td>61.13</td>\n",
       "      <td>35.65</td>\n",
       "      <td>10.29</td>\n",
       "      <td>22.97</td>\n",
       "      <td>6.48</td>\n",
       "      <td>31.02</td>\n",
       "      <td>3.70</td>\n",
       "      <td>0</td>\n",
       "    </tr>\n",
       "    <tr>\n",
       "      <th>5</th>\n",
       "      <td>Nicole Bradley</td>\n",
       "      <td>3</td>\n",
       "      <td>0.56</td>\n",
       "      <td>3.33</td>\n",
       "      <td>25.00</td>\n",
       "      <td>14.44</td>\n",
       "      <td>71.63</td>\n",
       "      <td>45.00</td>\n",
       "      <td>3.70</td>\n",
       "      <td>36.36</td>\n",
       "      <td>2.22</td>\n",
       "      <td>15.56</td>\n",
       "      <td>0.56</td>\n",
       "      <td>0</td>\n",
       "    </tr>\n",
       "    <tr>\n",
       "      <th>6</th>\n",
       "      <td>Renae Farr</td>\n",
       "      <td>1</td>\n",
       "      <td>0.00</td>\n",
       "      <td>0.00</td>\n",
       "      <td>1.85</td>\n",
       "      <td>3.70</td>\n",
       "      <td>38.60</td>\n",
       "      <td>9.26</td>\n",
       "      <td>5.56</td>\n",
       "      <td>17.65</td>\n",
       "      <td>11.11</td>\n",
       "      <td>50.00</td>\n",
       "      <td>9.26</td>\n",
       "      <td>0</td>\n",
       "    </tr>\n",
       "    <tr>\n",
       "      <th>7</th>\n",
       "      <td>Keiti Tätte</td>\n",
       "      <td>1</td>\n",
       "      <td>0.00</td>\n",
       "      <td>0.00</td>\n",
       "      <td>13.89</td>\n",
       "      <td>9.72</td>\n",
       "      <td>76.25</td>\n",
       "      <td>43.06</td>\n",
       "      <td>4.00</td>\n",
       "      <td>63.16</td>\n",
       "      <td>1.39</td>\n",
       "      <td>12.50</td>\n",
       "      <td>1.39</td>\n",
       "      <td>0</td>\n",
       "    </tr>\n",
       "    <tr>\n",
       "      <th>8</th>\n",
       "      <td>Anniken Steen</td>\n",
       "      <td>1</td>\n",
       "      <td>0.00</td>\n",
       "      <td>2.78</td>\n",
       "      <td>20.83</td>\n",
       "      <td>9.72</td>\n",
       "      <td>86.25</td>\n",
       "      <td>38.89</td>\n",
       "      <td>4.55</td>\n",
       "      <td>33.33</td>\n",
       "      <td>1.39</td>\n",
       "      <td>19.44</td>\n",
       "      <td>0.00</td>\n",
       "      <td>0</td>\n",
       "    </tr>\n",
       "  </tbody>\n",
       "</table>\n",
       "</div>"
      ],
      "text/plain": [
       "      Player_Name  Number_of_Tournaments  Eagle  Parked  In_C1  Birdies  \\\n",
       "0  Kristin Tattar                      4   1.52   13.64  40.40    34.85   \n",
       "1     Ella Hansen                      7   1.26    8.86  29.62    19.95   \n",
       "2     Maria Oliva                      6   0.28    9.36  22.81    21.94   \n",
       "3  Juliana Korver                     12   0.00    5.07  28.43    16.34   \n",
       "4     Raven Klein                      4   0.00    4.63  17.59    14.81   \n",
       "5  Nicole Bradley                      3   0.56    3.33  25.00    14.44   \n",
       "6      Renae Farr                      1   0.00    0.00   1.85     3.70   \n",
       "7     Keiti Tätte                      1   0.00    0.00  13.89     9.72   \n",
       "8   Anniken Steen                      1   0.00    2.78  20.83     9.72   \n",
       "\n",
       "   Fairway_Hits  In_C2  C2_Putts  Scramble  Dbl_Bogeys  Bogeys  Bogeys3  Ace  \n",
       "0         75.12  64.14     21.57     45.45        2.02   12.63     0.00    0  \n",
       "1         70.76  52.15      7.58     24.44        6.06   17.17     2.53    0  \n",
       "2         65.52  48.25     15.00     25.27        5.56   23.89     1.94    0  \n",
       "3         72.70  50.65      5.32     27.27        4.58   20.59     1.14    0  \n",
       "4         61.13  35.65     10.29     22.97        6.48   31.02     3.70    0  \n",
       "5         71.63  45.00      3.70     36.36        2.22   15.56     0.56    0  \n",
       "6         38.60   9.26      5.56     17.65       11.11   50.00     9.26    0  \n",
       "7         76.25  43.06      4.00     63.16        1.39   12.50     1.39    0  \n",
       "8         86.25  38.89      4.55     33.33        1.39   19.44     0.00    0  "
      ]
     },
     "execution_count": 17,
     "metadata": {},
     "output_type": "execute_result"
    }
   ],
   "source": [
    "# Creating the test dataframe\n",
    "# Testing dataframe\n",
    "t = {'Player_Name': ['Kristin Tattar', 'Ella Hansen','Maria Oliva', 'Juliana Korver', 'Raven Klein', 'Nicole Bradley', 'Renae Farr', 'Keiti Tätte', 'Anniken Steen'], \n",
    "     'Number_of_Tournaments': [4, 7, 6, 12, 4, 3, 1, 1, 1],\n",
    "    'Eagle': [1.52, 1.26, 0.28, 0, 0, 0.56, 0, 0, 0],\n",
    "    'Parked': [13.64, 8.86, 9.36, 5.07, 4.63, 3.33, 0, 0, 2.78],\n",
    "    'In_C1': [40.4, 29.62, 22.81, 28.43, 17.59, 25, 1.85, 13.89, 20.83],\n",
    "    'Birdies': [34.85, 19.95, 21.94, 16.34, 14.81, 14.44, 3.7, 9.72, 9.72],\n",
    "    'Fairway_Hits': [75.12, 70.76, 65.52, 72.7, 61.13, 71.63, 38.6, 76.25, 86.25],\n",
    "    'In_C2': [64.14, 52.15, 48.25, 50.65, 35.65, 45, 9.26, 43.06, 38.89],\n",
    "    'C2_Putts': [21.57, 7.58, 15, 5.32, 10.29, 3.7, 5.56, 4, 4.55],\n",
    "    'Scramble': [45.45, 24.44, 25.27, 27.27, 22.97, 36.36, 17.65, 63.16, 33.33],\n",
    "    'Dbl_Bogeys': [2.02, 6.06, 5.56, 4.58, 6.48, 2.22, 11.11, 1.39, 1.39],\n",
    "    'Bogeys': [12.63, 17.17, 23.89, 20.59, 31.02, 15.56, 50, 12.5, 19.44],\n",
    "    'Bogeys3': [0, 2.53, 1.94, 1.14, 3.7, 0.56, 9.26, 1.39, 0],\n",
    "    'Ace': [0, 0, 0, 0, 0, 0, 0, 0, 0]}\n",
    "test = pd.DataFrame(data=t)\n",
    "test"
   ]
  },
  {
   "cell_type": "code",
   "execution_count": 19,
   "metadata": {},
   "outputs": [
    {
     "name": "stdout",
     "output_type": "stream",
     "text": [
      "Name of Player: Kristin Tattar , Distance from nearest point: 13.52999999999999 , PDGA Ranking: 1.0\n"
     ]
    }
   ],
   "source": [
    "#Test to see how it does for Kristin Tattar\n",
    "knn(data, 'Kristin Tattar',4,1.52,13.64,40.40,34.85,75.12,64.14,21.57,45.45)"
   ]
  },
  {
   "cell_type": "markdown",
   "metadata": {},
   "source": [
    "The Ranking does not make sense because a player who only competed in 4 tournaments would not have more points than someone who played in 12. The distance between Kristin and Paige is also too far to be considered an accurate fit. Meaning that these variables do not work well. "
   ]
  },
  {
   "cell_type": "code",
   "execution_count": 20,
   "metadata": {},
   "outputs": [],
   "source": [
    "# Using the top three coefficients from the Logistic Regression \n",
    "def knn2(dataset, Name, Tourn, Eagle, Parked, In_C1, k=1):\n",
    "    \n",
    "    state = []\n",
    "    sortsex = []\n",
    "    \n",
    "    for item in dataset:    # for each instance out of the tuple\n",
    "        # distance formula w/ 4 dimensions\n",
    "        dist = abs((Tourn - item[3]) + (Eagle-item[4]) + (Parked-item[5]) + (In_C1-item[6]))\n",
    "        state.append((dist,item[0]))    # make a record of each \"dist\"\n",
    "        \n",
    "    sorted_by_first = sorted(state, reverse = False)   \n",
    "\n",
    "    # only displays distance and the PDGA Ranking Number\n",
    "    standing = sorted_by_first[0]\n",
    "\n",
    "    print(\"Name of Player:\", Name, \", Distance from nearest point:\",standing[0], \", PDGA Ranking:\", standing[1])"
   ]
  },
  {
   "cell_type": "code",
   "execution_count": 21,
   "metadata": {},
   "outputs": [
    {
     "name": "stdout",
     "output_type": "stream",
     "text": [
      "Name of Player: Kristin Tattar , Distance from nearest point: 1.0199999999999978 , PDGA Ranking: 23.0\n"
     ]
    }
   ],
   "source": [
    "#Test on Kristin Tattar\n",
    "knn2(data, 'Kristin Tattar',4,1.52,13.64,40.40)\n",
    "#Okay see if next player's ranking makes sense"
   ]
  },
  {
   "cell_type": "code",
   "execution_count": 22,
   "metadata": {},
   "outputs": [
    {
     "name": "stdout",
     "output_type": "stream",
     "text": [
      "Name of Player: Ella Hansen , Distance from nearest point: 0.5500000000000007 , PDGA Ranking: 55.0\n"
     ]
    }
   ],
   "source": [
    "knn2(data, 'Ella Hansen',7,1.26,8.86,29.62)\n",
    "#Does not make sense to be that low."
   ]
  },
  {
   "cell_type": "markdown",
   "metadata": {},
   "source": [
    "It does not make sense that someone who was in 7 tournaments would be that much lower ranked than someone who played in 4 tournaments. It would make sense to be slightly lower or higher but not to this extent. "
   ]
  },
  {
   "cell_type": "code",
   "execution_count": 23,
   "metadata": {},
   "outputs": [
    {
     "data": {
      "text/html": [
       "<div>\n",
       "<style scoped>\n",
       "    .dataframe tbody tr th:only-of-type {\n",
       "        vertical-align: middle;\n",
       "    }\n",
       "\n",
       "    .dataframe tbody tr th {\n",
       "        vertical-align: top;\n",
       "    }\n",
       "\n",
       "    .dataframe thead th {\n",
       "        text-align: right;\n",
       "    }\n",
       "</style>\n",
       "<table border=\"1\" class=\"dataframe\">\n",
       "  <thead>\n",
       "    <tr style=\"text-align: right;\">\n",
       "      <th></th>\n",
       "      <th>Player_Name</th>\n",
       "      <th>Number_of_Tournaments</th>\n",
       "      <th>Dbl_Bogeys</th>\n",
       "      <th>Bogeys</th>\n",
       "      <th>Bogeys3</th>\n",
       "    </tr>\n",
       "  </thead>\n",
       "  <tbody>\n",
       "    <tr>\n",
       "      <th>0</th>\n",
       "      <td>Kristin Tattar</td>\n",
       "      <td>4</td>\n",
       "      <td>2.02</td>\n",
       "      <td>12.63</td>\n",
       "      <td>0.00</td>\n",
       "    </tr>\n",
       "    <tr>\n",
       "      <th>1</th>\n",
       "      <td>Ella Hansen</td>\n",
       "      <td>7</td>\n",
       "      <td>6.06</td>\n",
       "      <td>17.17</td>\n",
       "      <td>2.53</td>\n",
       "    </tr>\n",
       "    <tr>\n",
       "      <th>2</th>\n",
       "      <td>Maria Oliva</td>\n",
       "      <td>6</td>\n",
       "      <td>5.56</td>\n",
       "      <td>23.89</td>\n",
       "      <td>1.94</td>\n",
       "    </tr>\n",
       "    <tr>\n",
       "      <th>3</th>\n",
       "      <td>Juliana Korver</td>\n",
       "      <td>12</td>\n",
       "      <td>4.58</td>\n",
       "      <td>20.59</td>\n",
       "      <td>1.14</td>\n",
       "    </tr>\n",
       "    <tr>\n",
       "      <th>4</th>\n",
       "      <td>Raven Klein</td>\n",
       "      <td>4</td>\n",
       "      <td>6.48</td>\n",
       "      <td>31.02</td>\n",
       "      <td>3.70</td>\n",
       "    </tr>\n",
       "    <tr>\n",
       "      <th>5</th>\n",
       "      <td>Nicole Bradley</td>\n",
       "      <td>3</td>\n",
       "      <td>2.22</td>\n",
       "      <td>15.56</td>\n",
       "      <td>0.56</td>\n",
       "    </tr>\n",
       "    <tr>\n",
       "      <th>6</th>\n",
       "      <td>Renae Farr</td>\n",
       "      <td>1</td>\n",
       "      <td>11.11</td>\n",
       "      <td>50.00</td>\n",
       "      <td>9.26</td>\n",
       "    </tr>\n",
       "    <tr>\n",
       "      <th>7</th>\n",
       "      <td>Keiti Tätte</td>\n",
       "      <td>1</td>\n",
       "      <td>1.39</td>\n",
       "      <td>12.50</td>\n",
       "      <td>1.39</td>\n",
       "    </tr>\n",
       "    <tr>\n",
       "      <th>8</th>\n",
       "      <td>Anniken Steen</td>\n",
       "      <td>1</td>\n",
       "      <td>1.39</td>\n",
       "      <td>19.44</td>\n",
       "      <td>0.00</td>\n",
       "    </tr>\n",
       "  </tbody>\n",
       "</table>\n",
       "</div>"
      ],
      "text/plain": [
       "      Player_Name  Number_of_Tournaments  Dbl_Bogeys  Bogeys  Bogeys3\n",
       "0  Kristin Tattar                      4        2.02   12.63     0.00\n",
       "1     Ella Hansen                      7        6.06   17.17     2.53\n",
       "2     Maria Oliva                      6        5.56   23.89     1.94\n",
       "3  Juliana Korver                     12        4.58   20.59     1.14\n",
       "4     Raven Klein                      4        6.48   31.02     3.70\n",
       "5  Nicole Bradley                      3        2.22   15.56     0.56\n",
       "6      Renae Farr                      1       11.11   50.00     9.26\n",
       "7     Keiti Tätte                      1        1.39   12.50     1.39\n",
       "8   Anniken Steen                      1        1.39   19.44     0.00"
      ]
     },
     "execution_count": 23,
     "metadata": {},
     "output_type": "execute_result"
    }
   ],
   "source": [
    "# Selecting only the PCA variables \n",
    "test2 = test[['Player_Name','Number_of_Tournaments','Dbl_Bogeys','Bogeys','Bogeys3']]\n",
    "test2"
   ]
  },
  {
   "cell_type": "code",
   "execution_count": 24,
   "metadata": {},
   "outputs": [],
   "source": [
    "# Knn using the top 3 variables from the 1st PCA\n",
    "def knn3(dataset, Name, Tourn, Dbl, Bogey, Bogey3, k=1):\n",
    "    \n",
    "    state = []\n",
    "    sortsex = []\n",
    "    \n",
    "    for item in dataset:    # for each instance out of the tuple\n",
    "        # distance formula w/ 4 dimensions\n",
    "        dist = abs((Tourn - item[3]) + (Dbl-item[12]) + (Bogey-item[13]) + (Bogey3-item[14]))\n",
    "        state.append((dist,item[0]))    # make a record of each \"dist\"\n",
    "        \n",
    "    sorted_by_first = sorted(state, reverse = False)   \n",
    "\n",
    "    # only displays distance and the PDGA Ranking Number\n",
    "    standing = sorted_by_first[0]\n",
    "\n",
    "    print(\"Name of Player:\", Name, \", Distance from nearest point:\",standing[0], \", PDGA Ranking:\", standing[1]) "
   ]
  },
  {
   "cell_type": "code",
   "execution_count": 25,
   "metadata": {},
   "outputs": [
    {
     "name": "stdout",
     "output_type": "stream",
     "text": [
      "Name of Player: Kristin Tattar , Distance from nearest point: 0.019999999999999574 , PDGA Ranking: 20.0\n"
     ]
    }
   ],
   "source": [
    "knn3(data, 'Kristin Tattar',4,2.02,12.63,0.00)\n",
    "# Makes sense see next player"
   ]
  },
  {
   "cell_type": "code",
   "execution_count": 26,
   "metadata": {},
   "outputs": [
    {
     "name": "stdout",
     "output_type": "stream",
     "text": [
      "Name of Player: Ella Hansen , Distance from nearest point: 0.030000000000000693 , PDGA Ranking: 15.0\n"
     ]
    }
   ],
   "source": [
    "knn3(data, 'Ella Hansen',7,6.06,17.17,2.53)"
   ]
  },
  {
   "cell_type": "code",
   "execution_count": 27,
   "metadata": {},
   "outputs": [
    {
     "name": "stdout",
     "output_type": "stream",
     "text": [
      "Name of Player: Maria Oliva , Distance from nearest point: 0.11999999999999922 , PDGA Ranking: 18.0\n"
     ]
    }
   ],
   "source": [
    "knn3(data, 'Maria Oliva',6,5.56,23.89,1.94)"
   ]
  },
  {
   "cell_type": "code",
   "execution_count": 28,
   "metadata": {},
   "outputs": [
    {
     "name": "stdout",
     "output_type": "stream",
     "text": [
      "Name of Player: Juliana Korver , Distance from nearest point: 0.20999999999999952 , PDGA Ranking: 9.0\n"
     ]
    }
   ],
   "source": [
    "knn3(data, 'Juliana Korver',12,4.58,20.59,1.14)"
   ]
  },
  {
   "cell_type": "code",
   "execution_count": 29,
   "metadata": {},
   "outputs": [
    {
     "name": "stdout",
     "output_type": "stream",
     "text": [
      "Name of Player: Raven Klein , Distance from nearest point: 0.23999999999999932 , PDGA Ranking: 76.0\n"
     ]
    }
   ],
   "source": [
    "knn3(data, 'Raven Klein',4,6.48,31.02,3.70)"
   ]
  },
  {
   "cell_type": "code",
   "execution_count": 30,
   "metadata": {},
   "outputs": [
    {
     "name": "stdout",
     "output_type": "stream",
     "text": [
      "Name of Player: Nicole Bradley , Distance from nearest point: 0.029999999999998472 , PDGA Ranking: 55.0\n"
     ]
    }
   ],
   "source": [
    "knn3(data, 'Nicole Bradley',3,2.22,15.56,0.56)"
   ]
  },
  {
   "cell_type": "code",
   "execution_count": 31,
   "metadata": {},
   "outputs": [
    {
     "name": "stdout",
     "output_type": "stream",
     "text": [
      "Name of Player: Renae Farr , Distance from nearest point: 0.009999999999999787 , PDGA Ranking: 99.0\n"
     ]
    }
   ],
   "source": [
    "knn3(data, 'Renae Farr',1,11.11,50.00,9.26)"
   ]
  },
  {
   "cell_type": "code",
   "execution_count": 32,
   "metadata": {},
   "outputs": [
    {
     "name": "stdout",
     "output_type": "stream",
     "text": [
      "Name of Player: Keiti Tätte , Distance from nearest point: 0.38000000000000067 , PDGA Ranking: 21.0\n"
     ]
    }
   ],
   "source": [
    "knn3(data, 'Keiti Tätte',1,1.39,12.50,1.39)"
   ]
  },
  {
   "cell_type": "code",
   "execution_count": 33,
   "metadata": {},
   "outputs": [
    {
     "name": "stdout",
     "output_type": "stream",
     "text": [
      "Name of Player: Anniken Steen , Distance from nearest point: 0.009999999999999343 , PDGA Ranking: 56.0\n"
     ]
    }
   ],
   "source": [
    "knn3(data, 'Anniken Steen',1,1.39,19.44,0.00)"
   ]
  },
  {
   "cell_type": "markdown",
   "metadata": {},
   "source": [
    "The KNN3 model appears to work well. Meaning the PCA gave a better result for feature importance. There are some people I think could have been classified better such as Anniken Steen, but that was likely due to another point around 56 that had similar numbers to her for those three variables. Most of the peoples’ rankings made sense based on their inputted numbers. "
   ]
  },
  {
   "cell_type": "code",
   "execution_count": null,
   "metadata": {},
   "outputs": [],
   "source": []
  }
 ],
 "metadata": {
  "kernelspec": {
   "display_name": "Python 3",
   "language": "python",
   "name": "python3"
  },
  "language_info": {
   "codemirror_mode": {
    "name": "ipython",
    "version": 3
   },
   "file_extension": ".py",
   "mimetype": "text/x-python",
   "name": "python",
   "nbconvert_exporter": "python",
   "pygments_lexer": "ipython3",
   "version": "3.6.10"
  }
 },
 "nbformat": 4,
 "nbformat_minor": 4
}
